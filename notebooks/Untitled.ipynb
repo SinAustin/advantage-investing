{
 "cells": [
  {
   "cell_type": "code",
   "execution_count": 1,
   "id": "1081c686",
   "metadata": {},
   "outputs": [],
   "source": [
    "import bs4\n",
    "import requests\n",
    "from bs4 import BeautifulSoup\n",
    "from datetime import datetime\n",
    "\n",
    "def go():\n",
    "    a = str(datetime.now().month)\n",
    "    b = str(datetime.now().day -1)\n",
    "    c = str(datetime.now().year -1)\n",
    "    d = str(datetime.now().year)\n",
    "    yesterday = a + '/' + b + '/' + d\n",
    "    last_year = a + '/' + b + '/' + c\n",
    "    return yesterday, last_year"
   ]
  },
  {
   "cell_type": "code",
   "execution_count": 2,
   "id": "cce19b53",
   "metadata": {},
   "outputs": [
    {
     "data": {
      "text/plain": [
       "<function __main__.go()>"
      ]
     },
     "execution_count": 2,
     "metadata": {},
     "output_type": "execute_result"
    }
   ],
   "source": [
    "go"
   ]
  },
  {
   "cell_type": "code",
   "execution_count": null,
   "id": "74546a96",
   "metadata": {},
   "outputs": [],
   "source": []
  }
 ],
 "metadata": {
  "kernelspec": {
   "display_name": "Python 3 (ipykernel)",
   "language": "python",
   "name": "python3"
  },
  "language_info": {
   "codemirror_mode": {
    "name": "ipython",
    "version": 3
   },
   "file_extension": ".py",
   "mimetype": "text/x-python",
   "name": "python",
   "nbconvert_exporter": "python",
   "pygments_lexer": "ipython3",
   "version": "3.9.6"
  }
 },
 "nbformat": 4,
 "nbformat_minor": 5
}
