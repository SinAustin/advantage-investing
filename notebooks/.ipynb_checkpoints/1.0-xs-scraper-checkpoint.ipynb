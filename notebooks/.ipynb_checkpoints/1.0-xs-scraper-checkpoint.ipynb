{
 "cells": [
  {
   "cell_type": "code",
   "execution_count": 1,
   "id": "925858a8",
   "metadata": {},
   "outputs": [],
   "source": [
    "import bs4\n",
    "import requests\n",
    "from bs4 import BeautifulSoup"
   ]
  },
  {
   "cell_type": "code",
   "execution_count": null,
   "id": "31dd34ac",
   "metadata": {},
   "outputs": [],
   "source": [
    "r = requests.get('https://www.marketwatch.com/investing/stock/goog/charts?mod=mw_quote_tab')\n",
    "soup = bs4.BeautifulSoup(r.content, \"html.parser\")"
   ]
  },
  {
   "cell_type": "code",
   "execution_count": null,
   "id": "d12c2446",
   "metadata": {},
   "outputs": [],
   "source": [
    "soup"
   ]
  },
  {
   "cell_type": "markdown",
   "id": "f119779f",
   "metadata": {},
   "source": [
    " ### get current price"
   ]
  },
  {
   "cell_type": "code",
   "execution_count": null,
   "id": "211d1ba1",
   "metadata": {
    "scrolled": true
   },
   "outputs": [],
   "source": [
    "soup.find_all('div',{'class':'element element--intraday'})[0].find_all('h3',{'class':'intraday__price'})"
   ]
  },
  {
   "cell_type": "code",
   "execution_count": null,
   "id": "31e18d07",
   "metadata": {},
   "outputs": [],
   "source": [
    "data = soup.find_all('div',{'class':'element element--intraday'})[0].find('h3',{'class':'intraday__price'}).text\n",
    "data"
   ]
  },
  {
   "cell_type": "code",
   "execution_count": null,
   "id": "eee479c4",
   "metadata": {},
   "outputs": [],
   "source": [
    "data.strip('$\\n')"
   ]
  },
  {
   "cell_type": "code",
   "execution_count": null,
   "id": "629ee7ad",
   "metadata": {},
   "outputs": [],
   "source": [
    "def get_current_price(ticker):\n",
    "    \"\"\" input: ticker, output:price \"\"\"\n",
    "    \n",
    "    r = requests.get('https://www.marketwatch.com/investing/stock/%s/charts?mod=mw_quote_tab' %ticker)\n",
    "    soup = bs4.BeautifulSoup(r.content, 'html.parser')\n",
    "    soup.find_all('div',{'class':'element element--intraday'})[0].find_all('h3',{'class':'intraday__price'})\n",
    "    price = soup.find_all('div',{'class':'element element--intraday'})[0].find('h3',{'class':'intraday__price'}).text.strip('$\\n')\n",
    "    return price\n",
    "    "
   ]
  },
  {
   "cell_type": "code",
   "execution_count": null,
   "id": "57eee33e",
   "metadata": {},
   "outputs": [],
   "source": [
    " get_current_price(\"spce\")"
   ]
  },
  {
   "cell_type": "markdown",
   "id": "37eec795",
   "metadata": {},
   "source": [
    "### get historical price data"
   ]
  },
  {
   "cell_type": "code",
   "execution_count": 2,
   "id": "15d258e3",
   "metadata": {},
   "outputs": [],
   "source": [
    "from datetime import datetime"
   ]
  },
  {
   "cell_type": "code",
   "execution_count": null,
   "id": "ee9569ad",
   "metadata": {},
   "outputs": [],
   "source": [
    "a = str(datetime.now().month)\n",
    "b = str(datetime.now().day -1)\n",
    "c = str(datetime.now().year -1)\n",
    "d = str(datetime.now().year)\n",
    "last_year = a + '/' + b + '/' + c\n",
    "this_year = a + '/' + b + '/' + d \n",
    "last_year, this_year "
   ]
  },
  {
   "cell_type": "code",
   "execution_count": null,
   "id": "ebb5e44e",
   "metadata": {},
   "outputs": [],
   "source": [
    "r = requests.get('https://www.marketwatch.com/investing/stock/spce/download-data?startDate=07/14/2020&endDate=07/14/2021')\n",
    "soup = bs4.BeautifulSoup(r.content,'html.parser')\n",
    "soup"
   ]
  },
  {
   "cell_type": "code",
   "execution_count": null,
   "id": "12954e02",
   "metadata": {
    "scrolled": true
   },
   "outputs": [],
   "source": [
    "soup.find_all('a',{'class':'link link--csv m100'})"
   ]
  },
  {
   "cell_type": "code",
   "execution_count": null,
   "id": "962df1c5",
   "metadata": {},
   "outputs": [],
   "source": [
    "link = soup.find_all('a',{'class':'link link--csv m100'},href=True)[0]['href'].replace(' ','%')"
   ]
  },
  {
   "cell_type": "code",
   "execution_count": null,
   "id": "d5d0e529",
   "metadata": {},
   "outputs": [],
   "source": [
    "link"
   ]
  },
  {
   "cell_type": "code",
   "execution_count": null,
   "id": "bfc626bd",
   "metadata": {
    "scrolled": true
   },
   "outputs": [],
   "source": [
    "import pandas as pd"
   ]
  },
  {
   "cell_type": "code",
   "execution_count": null,
   "id": "bad553ff",
   "metadata": {
    "scrolled": true
   },
   "outputs": [],
   "source": [
    "pd.read_csv(link)"
   ]
  },
  {
   "cell_type": "code",
   "execution_count": null,
   "id": "0fe4b105",
   "metadata": {
    "scrolled": true
   },
   "outputs": [],
   "source": [
    "# need to fix the start year and the end year time\n",
    "link"
   ]
  },
  {
   "cell_type": "code",
   "execution_count": null,
   "id": "a6e579a7",
   "metadata": {
    "scrolled": true
   },
   "outputs": [],
   "source": [
    "link_parts = link.split('startdate=')\n",
    "link_parts"
   ]
  },
  {
   "cell_type": "code",
   "execution_count": null,
   "id": "12746dea",
   "metadata": {},
   "outputs": [],
   "source": [
    "link_parts[1][13:]"
   ]
  },
  {
   "cell_type": "code",
   "execution_count": null,
   "id": "a93f850f",
   "metadata": {
    "scrolled": true
   },
   "outputs": [],
   "source": [
    "from datetime import datetime\n",
    "a = str(datetime.now().month)\n",
    "b = str(datetime.now().day -1)\n",
    "c = str(datetime.now().year -1)\n",
    "d = str(datetime.now().year)\n",
    "last_year = a + '/' + b + '/' + c\n",
    "this_year = a + '/' + b + '/' + d \n",
    "last_year, this_year "
   ]
  },
  {
   "cell_type": "code",
   "execution_count": null,
   "id": "8ec0156b",
   "metadata": {},
   "outputs": [],
   "source": [
    "go"
   ]
  },
  {
   "cell_type": "code",
   "execution_count": null,
   "id": "5ba6133b",
   "metadata": {
    "scrolled": true
   },
   "outputs": [],
   "source": [
    "link_parts"
   ]
  },
  {
   "cell_type": "code",
   "execution_count": null,
   "id": "6c9f65a5",
   "metadata": {},
   "outputs": [],
   "source": [
    "link = link_parts[0] + 'startdate=' + last_year + '%2000' + link_parts[1][13:]\n",
    "link"
   ]
  },
  {
   "cell_type": "code",
   "execution_count": null,
   "id": "f20ac3f8",
   "metadata": {},
   "outputs": [],
   "source": [
    "#fixing enddate time\n",
    "link_parts = link.split('&daterange')\n",
    "link_parts[0]"
   ]
  },
  {
   "cell_type": "code",
   "execution_count": null,
   "id": "1e3f749c",
   "metadata": {},
   "outputs": [],
   "source": [
    "link_parts[0][:-8]+'2000:00:00&daterange' + link_parts[1]"
   ]
  },
  {
   "cell_type": "code",
   "execution_count": null,
   "id": "2a022b16",
   "metadata": {},
   "outputs": [],
   "source": [
    "hist_link = link_parts[0][:-8]+'2000:00:00&daterange' + link_parts[1]\n",
    "hist_link"
   ]
  },
  {
   "cell_type": "code",
   "execution_count": null,
   "id": "b402ce31",
   "metadata": {},
   "outputs": [],
   "source": [
    "year_example_link = 'https://www.marketwatch.com/investing/stock/spce/downloaddatapartial?startdate=7/14/2020%2000:00:00&enddate=07/14/2021%2000:00:00&daterange=d30&frequency=p1d&csvdownload=true&downloadpartial=false&newdates=false'\n",
    "year_example_link"
   ]
  },
  {
   "cell_type": "code",
   "execution_count": 7,
   "id": "304d5772",
   "metadata": {},
   "outputs": [],
   "source": [
    "def go():\n",
    "    a = str(datetime.now().month)\n",
    "    b = str(datetime.now().day -1)\n",
    "    c = str(datetime.now().year -1)\n",
    "    d = str(datetime.now().year)\n",
    "    yesterday = a + '/' + b + '/' + d\n",
    "    last_year = a + '/' + b + '/' + c\n",
    "    return yesterday, last_year\n",
    "\n",
    "def get_price_hist(ticker, yesterday, last_year):\n",
    "    r = requests.get('https://www.marketwatch.com/investing/{}//download-data?startDate={}&endDate={}'.format(ticker,last_year,yesterday))\n",
    "    soup = bs4.BeautifulSoup(r.content,'html.parser')\n",
    "    soup.find_all('a',{'class':'link link--csv m100'})\n",
    "    link = soup.find_all('a',{'class':'link link--csv m100'},href=True)[0]['href'].replace(' ','%')\n",
    "    link_parts = link.split('startdate=')\n",
    "    link = link_parts[0] + 'startdate=' + last_year + '%2000' + link_parts[1][13:]\n",
    "    link_parts = link.split('&daterange')\n",
    "    hist_link = link_parts[0][:-8]+'2000:00:00&daterange' + link_parts[1]\n",
    "    return pd.read_csv(hist_link)"
   ]
  },
  {
   "cell_type": "code",
   "execution_count": 4,
   "id": "64bfbe43",
   "metadata": {},
   "outputs": [
    {
     "ename": "SyntaxError",
     "evalue": "invalid syntax (2736550754.py, line 1)",
     "output_type": "error",
     "traceback": [
      "\u001b[0;36m  File \u001b[0;32m\"/tmp/ipykernel_51925/2736550754.py\"\u001b[0;36m, line \u001b[0;32m1\u001b[0m\n\u001b[0;31m    date_year_ago.\u001b[0m\n\u001b[0m                  ^\u001b[0m\n\u001b[0;31mSyntaxError\u001b[0m\u001b[0;31m:\u001b[0m invalid syntax\n"
     ]
    }
   ],
   "source": [
    "date_year_ago."
   ]
  },
  {
   "cell_type": "code",
   "execution_count": null,
   "id": "02f9744e",
   "metadata": {},
   "outputs": [],
   "source": [
    "\n",
    "ticker='goog'\n",
    "yesterday,lastyear = date_year_ago\n",
    "hist_data = get_price_hist(ticker,yesterday,lastyear)"
   ]
  },
  {
   "cell_type": "code",
   "execution_count": null,
   "id": "0df539cf",
   "metadata": {},
   "outputs": [],
   "source": []
  }
 ],
 "metadata": {
  "kernelspec": {
   "display_name": "Python 3 (ipykernel)",
   "language": "python",
   "name": "python3"
  },
  "language_info": {
   "codemirror_mode": {
    "name": "ipython",
    "version": 3
   },
   "file_extension": ".py",
   "mimetype": "text/x-python",
   "name": "python",
   "nbconvert_exporter": "python",
   "pygments_lexer": "ipython3",
   "version": "3.9.6"
  }
 },
 "nbformat": 4,
 "nbformat_minor": 5
}
