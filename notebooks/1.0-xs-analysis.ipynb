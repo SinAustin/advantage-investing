{
 "cells": [
  {
   "cell_type": "markdown",
   "id": "2780b60e",
   "metadata": {},
   "source": [
    "# Formatting and Analysis\n",
    "# ====================="
   ]
  },
  {
   "cell_type": "code",
   "execution_count": null,
   "id": "1081c686",
   "metadata": {},
   "outputs": [],
   "source": [
    "import pandas as pd\n",
    "import matplotlib.pyplot as plt\n",
    "import numpy as np\n",
    "import sktime\n",
    "\n",
    "%matplotlib inline"
   ]
  },
  {
   "cell_type": "code",
   "execution_count": 3,
   "id": "cce19b53",
   "metadata": {},
   "outputs": [],
   "source": [
    "data = pd.read_csv('/home/zone/Documents/advantage-investing/data/raw/Goog.csv')"
   ]
  },
  {
   "cell_type": "code",
   "execution_count": 4,
   "id": "74546a96",
   "metadata": {
    "scrolled": true
   },
   "outputs": [
    {
     "data": {
      "text/html": [
       "<div>\n",
       "<style scoped>\n",
       "    .dataframe tbody tr th:only-of-type {\n",
       "        vertical-align: middle;\n",
       "    }\n",
       "\n",
       "    .dataframe tbody tr th {\n",
       "        vertical-align: top;\n",
       "    }\n",
       "\n",
       "    .dataframe thead th {\n",
       "        text-align: right;\n",
       "    }\n",
       "</style>\n",
       "<table border=\"1\" class=\"dataframe\">\n",
       "  <thead>\n",
       "    <tr style=\"text-align: right;\">\n",
       "      <th></th>\n",
       "      <th>Unnamed: 0</th>\n",
       "      <th>Date</th>\n",
       "      <th>Open</th>\n",
       "      <th>High</th>\n",
       "      <th>Low</th>\n",
       "      <th>Close</th>\n",
       "      <th>Volume</th>\n",
       "    </tr>\n",
       "  </thead>\n",
       "  <tbody>\n",
       "    <tr>\n",
       "      <th>0</th>\n",
       "      <td>0</td>\n",
       "      <td>07/19/2021</td>\n",
       "      <td>2,623.11</td>\n",
       "      <td>2,624.94</td>\n",
       "      <td>2,570.74</td>\n",
       "      <td>2,585.08</td>\n",
       "      <td>1,285,466</td>\n",
       "    </tr>\n",
       "    <tr>\n",
       "      <th>1</th>\n",
       "      <td>1</td>\n",
       "      <td>07/16/2021</td>\n",
       "      <td>2,632.82</td>\n",
       "      <td>2,643.66</td>\n",
       "      <td>2,616.43</td>\n",
       "      <td>2,636.91</td>\n",
       "      <td>743,059</td>\n",
       "    </tr>\n",
       "    <tr>\n",
       "      <th>2</th>\n",
       "      <td>2</td>\n",
       "      <td>07/15/2021</td>\n",
       "      <td>2,650.00</td>\n",
       "      <td>2,651.90</td>\n",
       "      <td>2,611.96</td>\n",
       "      <td>2,625.33</td>\n",
       "      <td>829,316</td>\n",
       "    </tr>\n",
       "    <tr>\n",
       "      <th>3</th>\n",
       "      <td>3</td>\n",
       "      <td>07/14/2021</td>\n",
       "      <td>2,638.03</td>\n",
       "      <td>2,659.92</td>\n",
       "      <td>2,637.96</td>\n",
       "      <td>2,641.65</td>\n",
       "      <td>895,927</td>\n",
       "    </tr>\n",
       "    <tr>\n",
       "      <th>4</th>\n",
       "      <td>4</td>\n",
       "      <td>07/13/2021</td>\n",
       "      <td>2,617.63</td>\n",
       "      <td>2,640.84</td>\n",
       "      <td>2,612.74</td>\n",
       "      <td>2,619.89</td>\n",
       "      <td>830,898</td>\n",
       "    </tr>\n",
       "    <tr>\n",
       "      <th>...</th>\n",
       "      <td>...</td>\n",
       "      <td>...</td>\n",
       "      <td>...</td>\n",
       "      <td>...</td>\n",
       "      <td>...</td>\n",
       "      <td>...</td>\n",
       "      <td>...</td>\n",
       "    </tr>\n",
       "    <tr>\n",
       "      <th>247</th>\n",
       "      <td>247</td>\n",
       "      <td>07/24/2020</td>\n",
       "      <td>1,498.93</td>\n",
       "      <td>1,517.64</td>\n",
       "      <td>1,488.40</td>\n",
       "      <td>1,511.87</td>\n",
       "      <td>1,544,404</td>\n",
       "    </tr>\n",
       "    <tr>\n",
       "      <th>248</th>\n",
       "      <td>248</td>\n",
       "      <td>07/23/2020</td>\n",
       "      <td>1,566.97</td>\n",
       "      <td>1,571.87</td>\n",
       "      <td>1,507.39</td>\n",
       "      <td>1,515.68</td>\n",
       "      <td>1,627,634</td>\n",
       "    </tr>\n",
       "    <tr>\n",
       "      <th>249</th>\n",
       "      <td>249</td>\n",
       "      <td>07/22/2020</td>\n",
       "      <td>1,560.50</td>\n",
       "      <td>1,570.00</td>\n",
       "      <td>1,546.10</td>\n",
       "      <td>1,568.49</td>\n",
       "      <td>931,985</td>\n",
       "    </tr>\n",
       "    <tr>\n",
       "      <th>250</th>\n",
       "      <td>250</td>\n",
       "      <td>07/21/2020</td>\n",
       "      <td>1,586.99</td>\n",
       "      <td>1,586.99</td>\n",
       "      <td>1,554.28</td>\n",
       "      <td>1,558.42</td>\n",
       "      <td>1,218,645</td>\n",
       "    </tr>\n",
       "    <tr>\n",
       "      <th>251</th>\n",
       "      <td>251</td>\n",
       "      <td>07/20/2020</td>\n",
       "      <td>1,515.26</td>\n",
       "      <td>1,570.29</td>\n",
       "      <td>1,503.60</td>\n",
       "      <td>1,565.72</td>\n",
       "      <td>1,557,252</td>\n",
       "    </tr>\n",
       "  </tbody>\n",
       "</table>\n",
       "<p>252 rows × 7 columns</p>\n",
       "</div>"
      ],
      "text/plain": [
       "     Unnamed: 0        Date      Open      High       Low     Close     Volume\n",
       "0             0  07/19/2021  2,623.11  2,624.94  2,570.74  2,585.08  1,285,466\n",
       "1             1  07/16/2021  2,632.82  2,643.66  2,616.43  2,636.91    743,059\n",
       "2             2  07/15/2021  2,650.00  2,651.90  2,611.96  2,625.33    829,316\n",
       "3             3  07/14/2021  2,638.03  2,659.92  2,637.96  2,641.65    895,927\n",
       "4             4  07/13/2021  2,617.63  2,640.84  2,612.74  2,619.89    830,898\n",
       "..          ...         ...       ...       ...       ...       ...        ...\n",
       "247         247  07/24/2020  1,498.93  1,517.64  1,488.40  1,511.87  1,544,404\n",
       "248         248  07/23/2020  1,566.97  1,571.87  1,507.39  1,515.68  1,627,634\n",
       "249         249  07/22/2020  1,560.50  1,570.00  1,546.10  1,568.49    931,985\n",
       "250         250  07/21/2020  1,586.99  1,586.99  1,554.28  1,558.42  1,218,645\n",
       "251         251  07/20/2020  1,515.26  1,570.29  1,503.60  1,565.72  1,557,252\n",
       "\n",
       "[252 rows x 7 columns]"
      ]
     },
     "execution_count": 4,
     "metadata": {},
     "output_type": "execute_result"
    }
   ],
   "source": [
    "data"
   ]
  },
  {
   "cell_type": "code",
   "execution_count": 52,
   "id": "fdff650c",
   "metadata": {
    "scrolled": false
   },
   "outputs": [
    {
     "data": {
      "text/plain": [
       "Unnamed: 0     int64\n",
       "Date          object\n",
       "Open          object\n",
       "High          object\n",
       "Low           object\n",
       "Close         object\n",
       "Volume        object\n",
       "dtype: object"
      ]
     },
     "execution_count": 52,
     "metadata": {},
     "output_type": "execute_result"
    }
   ],
   "source": [
    "data.dtypes"
   ]
  },
  {
   "cell_type": "code",
   "execution_count": 55,
   "id": "d394d517",
   "metadata": {},
   "outputs": [
    {
     "data": {
      "text/plain": [
       "Index(['Unnamed: 0', 'Date', 'Open', 'High', 'Low', 'Close', 'Volume'], dtype='object')"
      ]
     },
     "execution_count": 55,
     "metadata": {},
     "output_type": "execute_result"
    }
   ],
   "source": [
    "data.columns"
   ]
  },
  {
   "cell_type": "code",
   "execution_count": 63,
   "id": "723d9916",
   "metadata": {},
   "outputs": [
    {
     "data": {
      "text/html": [
       "<div>\n",
       "<style scoped>\n",
       "    .dataframe tbody tr th:only-of-type {\n",
       "        vertical-align: middle;\n",
       "    }\n",
       "\n",
       "    .dataframe tbody tr th {\n",
       "        vertical-align: top;\n",
       "    }\n",
       "\n",
       "    .dataframe thead th {\n",
       "        text-align: right;\n",
       "    }\n",
       "</style>\n",
       "<table border=\"1\" class=\"dataframe\">\n",
       "  <thead>\n",
       "    <tr style=\"text-align: right;\">\n",
       "      <th></th>\n",
       "      <th>Unnamed: 0</th>\n",
       "      <th>Date</th>\n",
       "      <th>Open</th>\n",
       "      <th>High</th>\n",
       "      <th>Low</th>\n",
       "      <th>Close</th>\n",
       "      <th>Volume</th>\n",
       "    </tr>\n",
       "  </thead>\n",
       "  <tbody>\n",
       "    <tr>\n",
       "      <th>0</th>\n",
       "      <td>0</td>\n",
       "      <td>07/19/2021</td>\n",
       "      <td>2,623.11</td>\n",
       "      <td>2,624.94</td>\n",
       "      <td>2,570.74</td>\n",
       "      <td>2,585.08</td>\n",
       "      <td>1,285,466</td>\n",
       "    </tr>\n",
       "  </tbody>\n",
       "</table>\n",
       "</div>"
      ],
      "text/plain": [
       "   Unnamed: 0        Date      Open      High       Low     Close     Volume\n",
       "0           0  07/19/2021  2,623.11  2,624.94  2,570.74  2,585.08  1,285,466"
      ]
     },
     "execution_count": 63,
     "metadata": {},
     "output_type": "execute_result"
    }
   ],
   "source": [
    "data[:][:1]"
   ]
  },
  {
   "cell_type": "code",
   "execution_count": 64,
   "id": "fae01fc4",
   "metadata": {
    "scrolled": false
   },
   "outputs": [
    {
     "name": "stdout",
     "output_type": "stream",
     "text": [
      "Date\n",
      "Open\n",
      "High\n",
      "Low\n",
      "Close\n",
      "Volume\n"
     ]
    }
   ],
   "source": [
    "for col in data.drop(columns=['Unnamed: 0']):\n",
    "    if str(col) !=['Unnamed: 0']:\n",
    "        print(str(col))\n",
    "        data[col] = data[col].str.split('.').str[0]"
   ]
  },
  {
   "cell_type": "code",
   "execution_count": 70,
   "id": "f7695758",
   "metadata": {},
   "outputs": [
    {
     "name": "stdout",
     "output_type": "stream",
     "text": [
      "Date\n",
      "Open\n",
      "High\n",
      "Low\n",
      "Close\n",
      "Volume\n"
     ]
    }
   ],
   "source": [
    "for col in data.drop(columns=['Unnamed: 0']):\n",
    "    print(str(col))\n",
    "    data[col] = data[col].str.strip(',')"
   ]
  },
  {
   "cell_type": "code",
   "execution_count": 123,
   "id": "b5db47d1",
   "metadata": {},
   "outputs": [
    {
     "data": {
      "text/plain": [
       "Date\n",
       "2021-07-19    2585\n",
       "2021-07-16    2636\n",
       "2021-07-15    2625\n",
       "2021-07-14    2641\n",
       "2021-07-13    2619\n",
       "              ... \n",
       "2020-07-24    1511\n",
       "2020-07-23    1515\n",
       "2020-07-22    1568\n",
       "2020-07-21    1558\n",
       "2020-07-20    1565\n",
       "Name: Close, Length: 252, dtype: int64"
      ]
     },
     "execution_count": 123,
     "metadata": {},
     "output_type": "execute_result"
    }
   ],
   "source": [
    "df.Close"
   ]
  },
  {
   "cell_type": "code",
   "execution_count": 131,
   "id": "b85f616d",
   "metadata": {},
   "outputs": [],
   "source": [
    "df = data.replace(',','', regex=True)"
   ]
  },
  {
   "cell_type": "code",
   "execution_count": 132,
   "id": "1be09ca8",
   "metadata": {
    "scrolled": true
   },
   "outputs": [],
   "source": [
    "df.Date = pd.to_datetime(df.Date)\n",
    "df.Close = pd.to_numeric(df.Close)\n",
    "df = df.set_index(df.Date,drop = True)\n",
    "df = pd.DataFrame(df.Close)"
   ]
  },
  {
   "cell_type": "code",
   "execution_count": 133,
   "id": "fb64619f",
   "metadata": {
    "scrolled": true
   },
   "outputs": [
    {
     "data": {
      "text/html": [
       "<div>\n",
       "<style scoped>\n",
       "    .dataframe tbody tr th:only-of-type {\n",
       "        vertical-align: middle;\n",
       "    }\n",
       "\n",
       "    .dataframe tbody tr th {\n",
       "        vertical-align: top;\n",
       "    }\n",
       "\n",
       "    .dataframe thead th {\n",
       "        text-align: right;\n",
       "    }\n",
       "</style>\n",
       "<table border=\"1\" class=\"dataframe\">\n",
       "  <thead>\n",
       "    <tr style=\"text-align: right;\">\n",
       "      <th></th>\n",
       "      <th>Close</th>\n",
       "    </tr>\n",
       "    <tr>\n",
       "      <th>Date</th>\n",
       "      <th></th>\n",
       "    </tr>\n",
       "  </thead>\n",
       "  <tbody>\n",
       "    <tr>\n",
       "      <th>2021-07-19</th>\n",
       "      <td>2585</td>\n",
       "    </tr>\n",
       "    <tr>\n",
       "      <th>2021-07-16</th>\n",
       "      <td>2636</td>\n",
       "    </tr>\n",
       "    <tr>\n",
       "      <th>2021-07-15</th>\n",
       "      <td>2625</td>\n",
       "    </tr>\n",
       "    <tr>\n",
       "      <th>2021-07-14</th>\n",
       "      <td>2641</td>\n",
       "    </tr>\n",
       "    <tr>\n",
       "      <th>2021-07-13</th>\n",
       "      <td>2619</td>\n",
       "    </tr>\n",
       "    <tr>\n",
       "      <th>...</th>\n",
       "      <td>...</td>\n",
       "    </tr>\n",
       "    <tr>\n",
       "      <th>2020-07-24</th>\n",
       "      <td>1511</td>\n",
       "    </tr>\n",
       "    <tr>\n",
       "      <th>2020-07-23</th>\n",
       "      <td>1515</td>\n",
       "    </tr>\n",
       "    <tr>\n",
       "      <th>2020-07-22</th>\n",
       "      <td>1568</td>\n",
       "    </tr>\n",
       "    <tr>\n",
       "      <th>2020-07-21</th>\n",
       "      <td>1558</td>\n",
       "    </tr>\n",
       "    <tr>\n",
       "      <th>2020-07-20</th>\n",
       "      <td>1565</td>\n",
       "    </tr>\n",
       "  </tbody>\n",
       "</table>\n",
       "<p>252 rows × 1 columns</p>\n",
       "</div>"
      ],
      "text/plain": [
       "            Close\n",
       "Date             \n",
       "2021-07-19   2585\n",
       "2021-07-16   2636\n",
       "2021-07-15   2625\n",
       "2021-07-14   2641\n",
       "2021-07-13   2619\n",
       "...           ...\n",
       "2020-07-24   1511\n",
       "2020-07-23   1515\n",
       "2020-07-22   1568\n",
       "2020-07-21   1558\n",
       "2020-07-20   1565\n",
       "\n",
       "[252 rows x 1 columns]"
      ]
     },
     "execution_count": 133,
     "metadata": {},
     "output_type": "execute_result"
    }
   ],
   "source": [
    "df"
   ]
  },
  {
   "cell_type": "code",
   "execution_count": 134,
   "id": "37a831e5",
   "metadata": {},
   "outputs": [
    {
     "data": {
      "image/png": "[encoded data removed]",
      "text/plain": [
       "<Figure size 648x360 with 1 Axes>"
      ]
     },
     "metadata": {
      "needs_background": "light"
     },
     "output_type": "display_data"
    }
   ],
   "source": [
    "plt.figure(figsize=(9,5))\n",
    "plt.grid(True)\n",
    "plt.xlabel('')\n",
    "plt.ylabel('')\n",
    "\n",
    "plt.yticks(np.arange(0, 3000, 100))\n",
    "plt.plot(df['Close'])\n",
    "plt.title('goog closing price')\n",
    "plt.show()"
   ]
  },
  {
   "cell_type": "code",
   "execution_count": 135,
   "id": "bace2793",
   "metadata": {},
   "outputs": [
    {
     "data": {
      "image/png": "[encoded data removed]",
      "text/plain": [
       "<Figure size 720x432 with 1 Axes>"
      ]
     },
     "metadata": {
      "needs_background": "light"
     },
     "output_type": "display_data"
    }
   ],
   "source": [
    "plt.figure(figsize=(10,6))\n",
    "df_close = df.Close\n",
    "df_close.plot(style='k.')\n",
    "plt.title('Scatter plot of closing price')\n",
    "plt.show()"
   ]
  },
  {
   "cell_type": "markdown",
   "id": "5c26c258",
   "metadata": {},
   "source": [
    "###  Is the data stationary? Data points are often non-stationary or have means, variances, and covariances that change over time.\n",
    "### Non-stationary behaviors like trends are unpredictable and produce unreliable forecasts"
   ]
  },
  {
   "cell_type": "code",
   "execution_count": 138,
   "id": "7ee08d6d",
   "metadata": {
    "scrolled": true
   },
   "outputs": [],
   "source": [
    "from statsmodels.tsa.stattools import adfuller"
   ]
  },
  {
   "cell_type": "code",
   "execution_count": 139,
   "id": "b2e4b12e",
   "metadata": {},
   "outputs": [
    {
     "data": {
      "image/png": "[encoded data removed]",
      "text/plain": [
       "<Figure size 432x288 with 1 Axes>"
      ]
     },
     "metadata": {
      "needs_background": "light"
     },
     "output_type": "display_data"
    },
    {
     "name": "stdout",
     "output_type": "stream",
     "text": [
      "Results of dickey fuller test\n",
      "Test Statistics                 -1.647320\n",
      "p-value                          0.458438\n",
      "No. of lags used                 5.000000\n",
      "Number of observations used    246.000000\n",
      "critical value (1%)             -3.457215\n",
      "critical value (5%)             -2.873362\n",
      "critical value (10%)            -2.573070\n",
      "dtype: float64\n"
     ]
    }
   ],
   "source": [
    "\n",
    "def test_stationarity(timeseries):\n",
    "    #Determing rolling statistics\n",
    "    rolmean = timeseries.rolling(12).mean()\n",
    "    rolstd = timeseries.rolling(12).std()\n",
    "    #Plot rolling statistics:\n",
    "    plt.plot(timeseries, color='yellow',label='Original')\n",
    "    plt.plot(rolmean, color='red', label='Rolling Mean')\n",
    "    plt.plot(rolstd, color='black', label = 'Rolling Std')\n",
    "    plt.legend(loc='best')\n",
    "    plt.title('Rolling Mean and Standard Deviation')\n",
    "    plt.show(block=False)\n",
    "    print(\"Results of dickey fuller test\")\n",
    "    adft = adfuller(timeseries,autolag='AIC')\n",
    "    # output for dft will give us without defining what the values are.\n",
    "    #hence we manually write what values does it explains using a for loop\n",
    "    output = pd.Series(adft[0:4],index=['Test Statistics','p-value','No. of lags used','Number of observations used'])\n",
    "    for key,values in adft[4].items():\n",
    "        output['critical value (%s)'%key] =  values\n",
    "    print(output)\n",
    "\n",
    "test_stationarity(df.Close)"
   ]
  },
  {
   "cell_type": "markdown",
   "id": "b680e0dd",
   "metadata": {},
   "source": [
    "### The mean and std  changes over time so our data is non stationary and looking at the graph the data is showing a trend.\n",
    "### First we'll create train and test sets then we'll fit an ARIMA model to this data. ( ARIMA models use differencing to extract stationary data  from our originally non stationary data)\n"
   ]
  },
  {
   "cell_type": "code",
   "execution_count": 154,
   "id": "f83e566c",
   "metadata": {},
   "outputs": [],
   "source": [
    "df_log = df_log[::-1]"
   ]
  },
  {
   "cell_type": "code",
   "execution_count": 155,
   "id": "d98fddc6",
   "metadata": {},
   "outputs": [
    {
     "data": {
      "text/plain": [
       "<matplotlib.legend.Legend at 0x7efcfa1e2b20>"
      ]
     },
     "execution_count": 155,
     "metadata": {},
     "output_type": "execute_result"
    },
    {
     "data": {
      "image/png": "[encoded data removed]",
      "text/plain": [
       "<Figure size 720x432 with 1 Axes>"
      ]
     },
     "metadata": {
      "needs_background": "light"
     },
     "output_type": "display_data"
    }
   ],
   "source": [
    "train_data, test_data = df_log[3:int(len(df_log)*0.9)], df_log[int(len(df_log)*0.9):]\n",
    "plt.figure(figsize=(10,6))\n",
    "plt.grid(True)\n",
    "plt.xlabel('Dates')\n",
    "plt.ylabel('Closing Prices')\n",
    "plt.plot(df_log, 'green', label='Train data')\n",
    "plt.plot(test_data, 'blue', label='Test data')\n",
    "plt.legend()"
   ]
  },
  {
   "cell_type": "code",
   "execution_count": 159,
   "id": "f8e4c827",
   "metadata": {},
   "outputs": [
    {
     "data": {
      "text/plain": [
       "26"
      ]
     },
     "execution_count": 159,
     "metadata": {},
     "output_type": "execute_result"
    }
   ],
   "source": [
    "len(test_data)"
   ]
  },
  {
   "cell_type": "code",
   "execution_count": null,
   "id": "8582f806",
   "metadata": {
    "scrolled": true
   },
   "outputs": [
    {
     "name": "stdout",
     "output_type": "stream",
     "text": [
      "Defaulting to user installation because normal site-packages is not writeable\n",
      "Collecting kats\n",
      "  Downloading kats-0.1.0.tar.gz (6.3 MB)\n",
      "\u001b[K     |████████████████████████████████| 6.3 MB 8.0 MB/s eta 0:00:01\n",
      "\u001b[?25hRequirement already satisfied: LunarCalendar>=0.0.9 in /home/zone/.local/lib/python3.9/site-packages (from kats) (0.0.9)\n",
      "Requirement already satisfied: attrs>=21.2.0 in /home/zone/.local/lib/python3.9/site-packages (from kats) (21.2.0)\n",
      "Collecting ax-platform\n",
      "  Downloading ax_platform-0.2.0-py3-none-any.whl (815 kB)\n",
      "\u001b[K     |████████████████████████████████| 815 kB 3.9 MB/s eta 0:00:01\n",
      "\u001b[?25hRequirement already satisfied: convertdate>=2.1.2 in /home/zone/.local/lib/python3.9/site-packages (from kats) (2.3.2)\n",
      "Collecting fbprophet==0.7\n",
      "  Downloading fbprophet-0.7.tar.gz (64 kB)\n",
      "\u001b[K     |████████████████████████████████| 64 kB 509 kB/s eta 0:00:01\n",
      "\u001b[?25hCollecting gpytorch\n",
      "  Downloading gpytorch-1.5.0-py2.py3-none-any.whl (498 kB)\n",
      "\u001b[K     |████████████████████████████████| 498 kB 2.8 MB/s eta 0:00:01\n",
      "\u001b[?25hRequirement already satisfied: holidays>=0.10.2 in /home/zone/.local/lib/python3.9/site-packages (from kats) (0.11.2)\n",
      "Requirement already satisfied: matplotlib>=2.0.0 in /home/zone/.local/lib/python3.9/site-packages (from kats) (3.4.2)\n",
      "Requirement already satisfied: numpy>=1.15.4 in /home/zone/.local/lib/python3.9/site-packages (from kats) (1.19.5)\n",
      "Requirement already satisfied: numba>=0.52.0 in /home/zone/.local/lib/python3.9/site-packages (from kats) (0.53.1)\n",
      "Requirement already satisfied: pandas>=1.0.4 in /home/zone/.local/lib/python3.9/site-packages (from kats) (1.3.0)\n",
      "Requirement already satisfied: plotly>=4.14.3 in /home/zone/.local/lib/python3.9/site-packages (from kats) (5.1.0)\n",
      "Collecting pymannkendall>=1.4.1\n",
      "  Downloading pymannkendall-1.4.2-py3-none-any.whl (12 kB)\n",
      "Collecting pystan==2.19.1.1\n",
      "  Downloading pystan-2.19.1.1.tar.gz (16.2 MB)\n",
      "\u001b[K     |████████████████████████████████| 16.2 MB 3.8 MB/s eta 0:00:01\n",
      "\u001b[?25hRequirement already satisfied: python-dateutil>=2.8.0 in /home/zone/.local/lib/python3.9/site-packages (from kats) (2.8.2)\n",
      "Requirement already satisfied: scikit-learn>+0.24.2 in /home/zone/.local/lib/python3.9/site-packages (from kats) (0.24.2)\n",
      "Requirement already satisfied: setuptools-git>=1.2 in /home/zone/.local/lib/python3.9/site-packages (from kats) (1.2)\n",
      "Requirement already satisfied: seaborn>=0.11.1 in /home/zone/.local/lib/python3.9/site-packages (from kats) (0.11.1)\n",
      "Requirement already satisfied: statsmodels>=0.12.2 in /home/zone/.local/lib/python3.9/site-packages (from kats) (0.12.2)\n",
      "Collecting torch>=1.8.1\n",
      "  Downloading torch-1.9.0-cp39-cp39-manylinux1_x86_64.whl (831.4 MB)\n",
      "\u001b[K     |████████████████████████████████| 831.4 MB 5.4 kB/s eta 0:00:013\n",
      "\u001b[?25hRequirement already satisfied: tqdm>=4.36.1 in /home/zone/.local/lib/python3.9/site-packages (from kats) (4.61.2)\n",
      "Requirement already satisfied: Cython>=0.22 in /home/zone/.local/lib/python3.9/site-packages (from fbprophet==0.7->kats) (0.29.24)\n",
      "Requirement already satisfied: cmdstanpy==0.9.5 in /home/zone/.local/lib/python3.9/site-packages (from fbprophet==0.7->kats) (0.9.5)\n",
      "Requirement already satisfied: pymeeus<=1,>=0.3.13 in /home/zone/.local/lib/python3.9/site-packages (from convertdate>=2.1.2->kats) (0.5.11)\n",
      "Requirement already satisfied: pytz>=2014.10 in /usr/lib/python3.9/site-packages (from convertdate>=2.1.2->kats) (2021.1)\n",
      "Requirement already satisfied: hijri-converter in /home/zone/.local/lib/python3.9/site-packages (from holidays>=0.10.2->kats) (2.1.3)\n",
      "Requirement already satisfied: six in /home/zone/.local/lib/python3.9/site-packages (from holidays>=0.10.2->kats) (1.15.0)\n",
      "Requirement already satisfied: korean-lunar-calendar in /home/zone/.local/lib/python3.9/site-packages (from holidays>=0.10.2->kats) (0.2.1)\n",
      "Requirement already satisfied: ephem>=3.7.5.3 in /home/zone/.local/lib/python3.9/site-packages (from LunarCalendar>=0.0.9->kats) (4.0.0.2)\n",
      "Requirement already satisfied: kiwisolver>=1.0.1 in /home/zone/.local/lib/python3.9/site-packages (from matplotlib>=2.0.0->kats) (1.3.1)\n",
      "Requirement already satisfied: cycler>=0.10 in /home/zone/.local/lib/python3.9/site-packages (from matplotlib>=2.0.0->kats) (0.10.0)\n",
      "Requirement already satisfied: pyparsing>=2.2.1 in /usr/lib/python3.9/site-packages (from matplotlib>=2.0.0->kats) (2.4.7)\n",
      "Requirement already satisfied: pillow>=6.2.0 in /usr/lib/python3.9/site-packages (from matplotlib>=2.0.0->kats) (8.3.1)\n",
      "Requirement already satisfied: llvmlite<0.37,>=0.36.0rc1 in /home/zone/.local/lib/python3.9/site-packages (from numba>=0.52.0->kats) (0.36.0)\n",
      "Requirement already satisfied: setuptools in /usr/lib/python3.9/site-packages (from numba>=0.52.0->kats) (57.1.0)\n",
      "Requirement already satisfied: tenacity>=6.2.0 in /home/zone/.local/lib/python3.9/site-packages (from plotly>=4.14.3->kats) (8.0.1)\n",
      "Requirement already satisfied: scipy in /home/zone/.local/lib/python3.9/site-packages (from pymannkendall>=1.4.1->kats) (1.7.0)\n",
      "Requirement already satisfied: joblib>=0.11 in /home/zone/.local/lib/python3.9/site-packages (from scikit-learn>+0.24.2->kats) (1.0.1)\n",
      "Requirement already satisfied: threadpoolctl>=2.0.0 in /home/zone/.local/lib/python3.9/site-packages (from scikit-learn>+0.24.2->kats) (2.2.0)\n",
      "Requirement already satisfied: patsy>=0.5 in /home/zone/.local/lib/python3.9/site-packages (from statsmodels>=0.12.2->kats) (0.5.1)\n",
      "Requirement already satisfied: typing-extensions in /home/zone/.local/lib/python3.9/site-packages (from torch>=1.8.1->kats) (3.7.4.3)\n",
      "Collecting typeguard\n",
      "  Downloading typeguard-2.12.1-py3-none-any.whl (17 kB)\n",
      "Collecting botorch==0.5.0\n",
      "  Downloading botorch-0.5.0-py3-none-any.whl (475 kB)\n",
      "\u001b[K     |████████████████████████████████| 475 kB 3.8 MB/s eta 0:00:01\n",
      "\u001b[?25hRequirement already satisfied: jinja2 in /home/zone/.local/lib/python3.9/site-packages (from ax-platform->kats) (3.0.1)\n",
      "Requirement already satisfied: MarkupSafe>=2.0 in /usr/lib/python3.9/site-packages (from jinja2->ax-platform->kats) (2.0.1)\n",
      "Building wheels for collected packages: kats, fbprophet, pystan\n",
      "  Building wheel for kats (setup.py) ... \u001b[?25ldone\n",
      "\u001b[?25h  Created wheel for kats: filename=kats-0.1.0-py3-none-any.whl size=286608 sha256=3ed45ffb7f5c387ce032485fa365c36636067117947c4c428c2ac1936cbea1df\n",
      "  Stored in directory: /home/zone/.cache/pip/wheels/c6/5c/04/73fe3ba5271769880191516041d8878e843c80453adf8d43d0\n",
      "  Building wheel for fbprophet (setup.py) ... \u001b[?25lerror\n",
      "\u001b[31m  ERROR: Command errored out with exit status 1:\n",
      "   command: /usr/bin/python -u -c 'import sys, setuptools, tokenize; sys.argv[0] = '\"'\"'/tmp/pip-install-lzdnocew/fbprophet_e8d916545e9b413f999e0ea0d81fefb0/setup.py'\"'\"'; __file__='\"'\"'/tmp/pip-install-lzdnocew/fbprophet_e8d916545e9b413f999e0ea0d81fefb0/setup.py'\"'\"';f=getattr(tokenize, '\"'\"'open'\"'\"', open)(__file__);code=f.read().replace('\"'\"'\\r\\n'\"'\"', '\"'\"'\\n'\"'\"');f.close();exec(compile(code, __file__, '\"'\"'exec'\"'\"'))' bdist_wheel -d /tmp/pip-wheel-ql_j4x6n\n",
      "       cwd: /tmp/pip-install-lzdnocew/fbprophet_e8d916545e9b413f999e0ea0d81fefb0/\n",
      "  Complete output (38 lines):\n",
      "  running bdist_wheel\n",
      "  running build\n",
      "  running build_py\n",
      "  creating build\n",
      "  creating build/lib\n",
      "  creating build/lib/fbprophet\n",
      "  creating build/lib/fbprophet/stan_model\n",
      "  Traceback (most recent call last):\n",
      "    File \"<string>\", line 1, in <module>\n",
      "    File \"/tmp/pip-install-lzdnocew/fbprophet_e8d916545e9b413f999e0ea0d81fefb0/setup.py\", line 122, in <module>\n",
      "      setup(\n",
      "    File \"/usr/lib/python3.9/site-packages/setuptools/__init__.py\", line 153, in setup\n",
      "      return distutils.core.setup(**attrs)\n",
      "    File \"/usr/lib/python3.9/distutils/core.py\", line 148, in setup\n",
      "      dist.run_commands()\n",
      "    File \"/usr/lib/python3.9/distutils/dist.py\", line 966, in run_commands\n",
      "      self.run_command(cmd)\n",
      "    File \"/usr/lib/python3.9/distutils/dist.py\", line 985, in run_command\n",
      "      cmd_obj.run()\n",
      "    File \"/usr/lib/python3.9/site-packages/wheel/bdist_wheel.py\", line 299, in run\n",
      "      self.run_command('build')\n",
      "    File \"/usr/lib/python3.9/distutils/cmd.py\", line 313, in run_command\n",
      "      self.distribution.run_command(command)\n",
      "    File \"/usr/lib/python3.9/distutils/dist.py\", line 985, in run_command\n",
      "      cmd_obj.run()\n",
      "    File \"/usr/lib/python3.9/distutils/command/build.py\", line 135, in run\n",
      "      self.run_command(cmd_name)\n",
      "    File \"/usr/lib/python3.9/distutils/cmd.py\", line 313, in run_command\n",
      "      self.distribution.run_command(command)\n",
      "    File \"/usr/lib/python3.9/distutils/dist.py\", line 985, in run_command\n",
      "      cmd_obj.run()\n",
      "    File \"/tmp/pip-install-lzdnocew/fbprophet_e8d916545e9b413f999e0ea0d81fefb0/setup.py\", line 48, in run\n",
      "      build_models(target_dir)\n",
      "    File \"/tmp/pip-install-lzdnocew/fbprophet_e8d916545e9b413f999e0ea0d81fefb0/setup.py\", line 38, in build_models\n",
      "      StanBackendEnum.get_backend_class(backend).build_model(target_dir, MODEL_DIR)\n",
      "    File \"/tmp/pip-install-lzdnocew/fbprophet_e8d916545e9b413f999e0ea0d81fefb0/fbprophet/models.py\", line 209, in build_model\n",
      "      import pystan\n",
      "  ModuleNotFoundError: No module named 'pystan'\n",
      "  ----------------------------------------\u001b[0m\n",
      "\u001b[31m  ERROR: Failed building wheel for fbprophet\u001b[0m\n",
      "\u001b[?25h  Running setup.py clean for fbprophet\n"
     ]
    },
    {
     "name": "stdout",
     "output_type": "stream",
     "text": [
      "  Building wheel for pystan (setup.py) ... \u001b[?25l/"
     ]
    }
   ],
   "source": [
    "!pip install kats"
   ]
  },
  {
   "cell_type": "code",
   "execution_count": 1,
   "id": "33d92b41",
   "metadata": {},
   "outputs": [
    {
     "name": "stdout",
     "output_type": "stream",
     "text": [
      "Defaulting to user installation because normal site-packages is not writeable\n",
      "Requirement already satisfied: arrow in /home/zone/.local/lib/python3.9/site-packages (1.1.1)\n",
      "Requirement already satisfied: python-dateutil>=2.7.0 in /home/zone/.local/lib/python3.9/site-packages (from arrow) (2.8.2)\n",
      "Requirement already satisfied: six>=1.5 in /home/zone/.local/lib/python3.9/site-packages (from python-dateutil>=2.7.0->arrow) (1.15.0)\n"
     ]
    }
   ],
   "source": [
    "!pip install arrow\n"
   ]
  },
  {
   "cell_type": "code",
   "execution_count": null,
   "id": "a2792706",
   "metadata": {},
   "outputs": [],
   "source": []
  },
  {
   "cell_type": "code",
   "execution_count": null,
   "id": "e60bb913",
   "metadata": {},
   "outputs": [],
   "source": []
  },
  {
   "cell_type": "code",
   "execution_count": null,
   "id": "806559f9",
   "metadata": {},
   "outputs": [],
   "source": []
  },
  {
   "cell_type": "code",
   "execution_count": null,
   "id": "3fce8881",
   "metadata": {},
   "outputs": [],
   "source": []
  },
  {
   "cell_type": "code",
   "execution_count": null,
   "id": "bc7585a2",
   "metadata": {},
   "outputs": [],
   "source": []
  },
  {
   "cell_type": "code",
   "execution_count": null,
   "id": "6e181afd",
   "metadata": {},
   "outputs": [],
   "source": []
  },
  {
   "cell_type": "code",
   "execution_count": null,
   "id": "92e555f7",
   "metadata": {},
   "outputs": [],
   "source": []
  }
 ],
 "metadata": {
  "kernelspec": {
   "display_name": "Python 3 (ipykernel)",
   "language": "python",
   "name": "python3"
  },
  "language_info": {
   "codemirror_mode": {
    "name": "ipython",
    "version": 3
   },
   "file_extension": ".py",
   "mimetype": "text/x-python",
   "name": "python",
   "nbconvert_exporter": "python",
   "pygments_lexer": "ipython3",
   "version": "3.9.6"
  }
 },
 "nbformat": 4,
 "nbformat_minor": 5
}
